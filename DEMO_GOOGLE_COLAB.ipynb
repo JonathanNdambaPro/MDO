{
  "nbformat": 4,
  "nbformat_minor": 0,
  "metadata": {
    "colab": {
      "name": "DEMO_GOOGLE_COLAB.ipynb",
      "provenance": [],
      "collapsed_sections": [],
      "authorship_tag": "ABX9TyODuNYuKNNQbAJZ2iw3237p",
      "include_colab_link": true
    },
    "kernelspec": {
      "name": "python3",
      "display_name": "Python 3"
    }
  },
  "cells": [
    {
      "cell_type": "markdown",
      "metadata": {
        "id": "view-in-github",
        "colab_type": "text"
      },
      "source": [
        "<a href=\"https://colab.research.google.com/github/JonathanNdambaPro/MDO/blob/master/DEMO_GOOGLE_COLAB.ipynb\" target=\"_parent\"><img src=\"https://colab.research.google.com/assets/colab-badge.svg\" alt=\"Open In Colab\"/></a>"
      ]
    },
    {
      "cell_type": "markdown",
      "metadata": {
        "id": "zJ8KrnqFrXLb",
        "colab_type": "text"
      },
      "source": [
        "### Mahanalobis_Dectection_Outliers :\n",
        " [link to Github](https://github.com/JonathanNdambaPro/MDO)"
      ]
    },
    {
      "cell_type": "code",
      "metadata": {
        "id": "DkA8V9NEifZy",
        "colab_type": "code",
        "colab": {}
      },
      "source": [
        "!pip install Mahanalobis-Detection-Outliers"
      ],
      "execution_count": null,
      "outputs": []
    },
    {
      "cell_type": "code",
      "metadata": {
        "id": "ep_cKprn-TbQ",
        "colab_type": "code",
        "colab": {}
      },
      "source": [
        "from google.colab import drive\n",
        "import os\n",
        "import pandas as pd\n",
        "import plotly.express as px\n",
        "from typing import List\n",
        "\n",
        "drive.mount('/content/drive')\n",
        "\n",
        "os.chdir('/content/drive/My Drive/PAscal')\n",
        "\n",
        "df_SnP500 = pd.read_csv(\"^GSPC.csv\")\n",
        "df_VIX = pd.read_csv(\"^VIX.csv\")\n",
        "df_stock = pd.read_csv(\"data_stocks.csv\")"
      ],
      "execution_count": null,
      "outputs": []
    },
    {
      "cell_type": "code",
      "metadata": {
        "id": "lfFmgREGi1VG",
        "colab_type": "code",
        "colab": {}
      },
      "source": [
        "from Mahanalobis_Detection_Outliers.main import MDO"
      ],
      "execution_count": null,
      "outputs": []
    },
    {
      "cell_type": "code",
      "metadata": {
        "id": "Ad9_BJ5bBeZB",
        "colab_type": "code",
        "colab": {}
      },
      "source": [
        "test = MDO()\n",
        "\n",
        "Open = 'Open'\n",
        "High = 'High'\n",
        "Low = 'Low'\n",
        "Close = 'Close'\n",
        "\n",
        "\n",
        "params = {\n",
        "    'inference_type': \"bayesian\",\n",
        "    'n_components': 10\n",
        "\n",
        "}\n",
        "\n",
        "def test_MDO(df: pd.DataFrame, Var_list: List, **params) -> pd.DataFrame:\n",
        "  X = df[Var_list]\n",
        "  X_scoring = X.copy()\n",
        "  test.fit(X, **params)\n",
        "  X_scoring['dist_global'] = test.get_scoring()\n",
        "\n",
        "  return X_scoring\n",
        "\n",
        "List_Var = [f'{Open}', f'{High}', f'{Low}']\n",
        "\n",
        "X_scoring = test_MDO(df_SnP500, List_Var, **params)\n",
        "\n",
        "fig = px.scatter_3d(X_scoring, x=f'{Open}', y=f'{High}', z=f'{Low}',\n",
        "                    color='dist_global')\n",
        "fig.show()\n",
        "\n"
      ],
      "execution_count": null,
      "outputs": []
    },
    {
      "cell_type": "code",
      "metadata": {
        "id": "1qRyTF3wZDEa",
        "colab_type": "code",
        "colab": {}
      },
      "source": [
        "List_Var = [f'{Open}', f'{Close}']\n",
        "\n",
        "X_scoring = test_MDO(df_SnP500, List_Var, **params)\n",
        "\n",
        "fig = px.scatter(X_scoring, x=f\"{Open}\", y=f\"{Close}\", color='dist_global')\n",
        "fig.show()"
      ],
      "execution_count": null,
      "outputs": []
    },
    {
      "cell_type": "code",
      "metadata": {
        "id": "GdonT798ohqD",
        "colab_type": "code",
        "colab": {}
      },
      "source": [
        "High = 'High'\n",
        "Low = 'Low'\n",
        "Close = 'Close'\n",
        "Open = 'Open'\n",
        "\n",
        "List_Var = [f'{Open}', f'{High}', f'{Low}']\n",
        "\n",
        "X_scoring = test_MDO(df_VIX, List_Var, **params)\n",
        "\n",
        "fig = px.scatter_3d(X_scoring, x=f'{Open}', y=f'{High}', z=f'{Low}',\n",
        "                    color='dist_global')\n",
        "fig.show()"
      ],
      "execution_count": null,
      "outputs": []
    },
    {
      "cell_type": "code",
      "metadata": {
        "id": "mCDWfMHIkXkx",
        "colab_type": "code",
        "colab": {}
      },
      "source": [
        "List_Var = [f'{Open}', f'{Close}']\n",
        "\n",
        "X_scoring = test_MDO(df_VIX, List_Var, **params)\n",
        "\n",
        "fig = px.scatter(X_scoring, x=f\"{Open}\", y=f\"{Close}\", color='dist_global')\n",
        "fig.show()"
      ],
      "execution_count": null,
      "outputs": []
    },
    {
      "cell_type": "code",
      "metadata": {
        "id": "OMclaZdevgMT",
        "colab_type": "code",
        "colab": {}
      },
      "source": [
        "SP500 = 'SP500'\n",
        "NASDAQ_AAL = 'NASDAQ.AAL'\n",
        "NASDAQ_AAPL = 'NASDAQ.AAPL'\n",
        "\n",
        "params = {\n",
        "    'inference_type': \"bayesian\",\n",
        "    'n_components': 100\n",
        "\n",
        "}\n",
        "\n",
        "List_Var = [f'{SP500}', f'{NASDAQ_AAL}', f'{NASDAQ_AAPL}']\n",
        "\n",
        "X_scoring = test_MDO(df_stock, List_Var, **params)\n",
        "\n",
        "fig = px.scatter_3d(X_scoring, x=f'{SP500}', y=f'{NASDAQ_AAL}', z=f'{NASDAQ_AAPL}',\n",
        "                    color='dist_global')\n",
        "fig.show()"
      ],
      "execution_count": null,
      "outputs": []
    },
    {
      "cell_type": "code",
      "metadata": {
        "id": "E7dVR8k1v6rA",
        "colab_type": "code",
        "colab": {}
      },
      "source": [
        "params = {\n",
        "    'inference_type': \"bayesian\",\n",
        "    'n_components': 100\n",
        "\n",
        "}\n",
        "\n",
        "List_Var = [f'{NASDAQ_AAL}', f'{NASDAQ_AAPL}']\n",
        "\n",
        "\n",
        "X_scoring = test_MDO(df_stock, List_Var, **params)\n",
        "\n",
        "fig = px.scatter(X_scoring, x=f\"{NASDAQ_AAL}\", y=f\"{NASDAQ_AAPL}\", color='dist_global')\n",
        "fig.show()"
      ],
      "execution_count": null,
      "outputs": []
    }
  ]
}